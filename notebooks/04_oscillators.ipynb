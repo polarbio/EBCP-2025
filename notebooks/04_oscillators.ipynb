{
 "cells": [
  {
   "cell_type": "markdown",
   "id": "b444f67f",
   "metadata": {},
   "source": [
    "# 04. Osciladores"
   ]
  }
 ],
 "metadata": {
  "language_info": {
   "name": "python"
  }
 },
 "nbformat": 4,
 "nbformat_minor": 5
}
