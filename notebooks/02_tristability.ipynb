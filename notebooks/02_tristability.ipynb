{
 "cells": [
  {
   "cell_type": "markdown",
   "id": "3e382e50",
   "metadata": {},
   "source": [
    "# 02. Triestabilidad"
   ]
  }
 ],
 "metadata": {
  "language_info": {
   "name": "python"
  }
 },
 "nbformat": 4,
 "nbformat_minor": 5
}
