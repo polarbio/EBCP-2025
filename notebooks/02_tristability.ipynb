{
 "cells": [
  {
   "cell_type": "markdown",
   "id": "3e382e50",
   "metadata": {},
   "source": [
    "# 02. Triestabilidad"
   ]
  },
  {
   "cell_type": "code",
   "execution_count": null,
   "id": "d49de4e4",
   "metadata": {
    "vscode": {
     "languageId": "plaintext"
    }
   },
   "outputs": [],
   "source": [
    "#@title Colab setup\n",
    "import os, sys, subprocess\n",
    "if \"google.colab\" in sys.modules:\n",
    "  cmd = \"pip install --upgrade biocircuits bokeh-catplot watermark blackcellmagic intersect\"\n",
    "  process = subprocess.Popen(cmd.split(), stdout=subprocess.PIPE, stderr=subprocess.PIPE)\n",
    "  stdout, stderr = process.communicate()\n",
    "# ------\n",
    "\n",
    "# Librerias que utilizaremos para resolver ODEs\n",
    "import scipy.integrate\n",
    "import biocircuits\n",
    "import numba\n",
    "\n",
    "# Librerias para analisis matematico\n",
    "import numpy as np\n",
    "from intersect import intersection\n",
    "from skimage import measure\n",
    "import sympy as sym\n",
    "import pylab as pl\n",
    "\n",
    "# Librerias para visualizar los resultados\n",
    "import bokeh.io\n",
    "import bokeh.io\n",
    "import bokeh.plotting\n",
    "import bokeh.palettes\n",
    "from bokeh.models import LinearColorMapper, ColorBar\n",
    "from bokeh.models import Range1d\n",
    "from bokeh.io import export_svgs\n",
    "\n",
    "bokeh.io.output_notebook()"
   ]
  }
 ],
 "metadata": {
  "language_info": {
   "name": "python"
  }
 },
 "nbformat": 4,
 "nbformat_minor": 5
}
