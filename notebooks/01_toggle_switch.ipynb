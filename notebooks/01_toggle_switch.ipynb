{
 "cells": [
  {
   "cell_type": "markdown",
   "id": "9c9a20ad",
   "metadata": {},
   "source": [
    "# 01. Toggle Switch"
   ]
  }
 ],
 "metadata": {
  "language_info": {
   "name": "python"
  }
 },
 "nbformat": 4,
 "nbformat_minor": 5
}
